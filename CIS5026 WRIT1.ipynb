{
 "cells": [
  {
   "cell_type": "markdown",
   "metadata": {},
   "source": [
    "# CIS5026 WRIT1 - How do words in listing names affect listing prices?\n",
    "\n",
    "#### The aim of this project is to research if there is a difference in the most commonly used words in listing names at the high and low end of the price spectrum. For properties that are well reviewed, we could advise users of popular listing words in the luxury and budget ranges We don't have listing reviews so this would be future work. This is just an exploratory analysis of commonly used listing words. but could try and link it to availability.  "
   ]
  },
  {
   "cell_type": "code",
   "execution_count": null,
   "metadata": {},
   "outputs": [],
   "source": [
    "# Import necessary libraries\n",
    "import pandas as pd\n",
    "import numpy as np\n",
    "import matplotlib.pyplot as plt\n",
    "import seaborn as sns\n",
    "import nltk\n",
    "import re"
   ]
  },
  {
   "cell_type": "markdown",
   "metadata": {},
   "source": [
    "## Pre-processing and exploratory data analysis"
   ]
  },
  {
   "cell_type": "code",
   "execution_count": null,
   "metadata": {},
   "outputs": [],
   "source": [
    "# Read in the data and check structure, column headers and data types\n",
    "df = pd.read_csv('AB_NYC_2019.csv')\n",
    "print(df.head())\n",
    "df.dtypes\n",
    "df.shape"
   ]
  },
  {
   "cell_type": "code",
   "execution_count": null,
   "metadata": {},
   "outputs": [],
   "source": [
    "# Check if null values\n",
    "df.info()"
   ]
  },
  {
   "cell_type": "code",
   "execution_count": null,
   "metadata": {},
   "outputs": [],
   "source": [
    "# Some nulls, so count nulls per column\n",
    "df.isnull().sum()"
   ]
  },
  {
   "cell_type": "markdown",
   "metadata": {},
   "source": [
    "We aren't going to use either review columns in this analysis and there's no way to impute for a listing name, so we'll drop the columns with no name entry. "
   ]
  },
  {
   "cell_type": "code",
   "execution_count": null,
   "metadata": {},
   "outputs": [],
   "source": [
    "df.dropna(subset=['name'], inplace=True)\n",
    "df.isnull().sum()"
   ]
  },
  {
   "cell_type": "code",
   "execution_count": null,
   "metadata": {},
   "outputs": [],
   "source": [
    "# Get the basic descriptive stats\n",
    "df.describe()"
   ]
  },
  {
   "cell_type": "markdown",
   "metadata": {},
   "source": [
    "Huge variation in price and the minimum nights for a booking. Interesting that price has a 0 entry without missing any values, let's check them out."
   ]
  },
  {
   "cell_type": "code",
   "execution_count": null,
   "metadata": {},
   "outputs": [],
   "source": [
    "df.loc[df['price']== 0]"
   ]
  },
  {
   "cell_type": "markdown",
   "metadata": {},
   "source": [
    "Nothing in the listing description to suggest that the stay is for free, some of these are also from the same users so will assume it is some clerical error. We'll remove these rows:"
   ]
  },
  {
   "cell_type": "code",
   "execution_count": null,
   "metadata": {},
   "outputs": [],
   "source": [
    "df = df[df.price != 0]"
   ]
  },
  {
   "cell_type": "markdown",
   "metadata": {},
   "source": [
    "Next let's look at the spread of properties across the different neighbourhood groups. "
   ]
  },
  {
   "cell_type": "code",
   "execution_count": null,
   "metadata": {},
   "outputs": [],
   "source": [
    "df['neighbourhood_group'].hist()"
   ]
  },
  {
   "cell_type": "markdown",
   "metadata": {},
   "source": [
    "Brooklyn and Manhattan have significantly more listings than other areas. The Bronx and especially Staten Island have little representation in comparison. Let's see how the price differs across neighbourhoods and room type."
   ]
  },
  {
   "cell_type": "code",
   "execution_count": null,
   "metadata": {},
   "outputs": [],
   "source": [
    "df.groupby(['room_type','neighbourhood_group'])['price'].describe()"
   ]
  },
  {
   "cell_type": "code",
   "execution_count": null,
   "metadata": {},
   "outputs": [],
   "source": [
    "# And plot it to get a better look \n",
    "plt.figure(figsize=(16, 7))\n",
    "sns.barplot(df.neighbourhood_group, df.price, hue=df.room_type, palette=\"colorblind\", ci = None)"
   ]
  },
  {
   "cell_type": "markdown",
   "metadata": {},
   "source": [
    "Manhattan listings are significantly more expensive than other neighbourhoods. Not so much variation between prices in other neighbourhoods. Of the other 4 areas; it's interesting that shared rooms in Brooklyn are the least expensive while entire properties are the most expensive. It's possible that listings in Brooklyn, Queens and Bronx could get more expensive as they approach the Manhattan border. This could be future work to look into. Also look at availability 365 - bookings with less availability could be a good price so get booked up and vice versa. "
   ]
  },
  {
   "cell_type": "code",
   "execution_count": null,
   "metadata": {},
   "outputs": [],
   "source": [
    "# Top and bottom rows were cut off, this is because Matplotlib 3.1.1 breaks Seaborn 0.9.0 - not sure why those versions are used\n",
    "# Manually setting ylim solves issue\n",
    "plt.figure(figsize=(10, 8))\n",
    "plt.title(\"Variable Correlation Plot\")\n",
    "ax = sns.heatmap(data = df.corr(), fmt = '.2f', annot=True, cmap='magma', vmin=0, vmax=1)\n",
    "bottom, top = ax.get_ylim()\n",
    "ax.set_ylim(bottom + 0.5, top - 0.5)\n",
    "plt.show()"
   ]
  },
  {
   "cell_type": "markdown",
   "metadata": {},
   "source": [
    "There doesn't seem to be much strong correlation, positive or negative, between variables that might be interesting to look into. The number of reviews being positively correlated to reviews per month is expected; as reviews for a month increases so will the total number of reviews. The same goes for the host and listing IDs; hosts are likely to retain ownership of a listing for multiple bookings so the IDs will be associated. "
   ]
  },
  {
   "cell_type": "markdown",
   "metadata": {},
   "source": [
    "## Data Analysis\n",
    "\n",
    "#### We'll now explore most commonly used words in listings and analyse the difference across different price bands."
   ]
  },
  {
   "cell_type": "code",
   "execution_count": null,
   "metadata": {},
   "outputs": [],
   "source": [
    "# Import specific functions from nltk, functions not recognised despite importing nltk at start\n",
    "from nltk.corpus import stopwords\n",
    "from nltk import word_tokenize\n",
    "# Changes name column from object to string and join, drop words less than 3 characters\n",
    "to_string = \"\".join(str(i) for i in df['name'] if len(i)>2)\n",
    "# Tokenize all words in name field\n",
    "word_tokens = word_tokenize(to_string)\n",
    "# Change everything to lower case\n",
    "lower_words = str(word_tokens).lower().split()\n",
    "# Handles punctuation\n",
    "just_words = re.sub('[^a-zA-Z]', ' ', str(lower_words)).split()\n",
    "# Handle stopwords e.g. to, an, the, etc.\n",
    "sw = stopwords.words('english')\n",
    "# Append the words not in stopwords into a list\n",
    "wordlist = []\n",
    "for token in just_words: \n",
    "    if token not in sw: \n",
    "        wordlist.append(token)\n",
    "# Store words in a series\n",
    "words = pd.Series(wordlist)"
   ]
  },
  {
   "cell_type": "code",
   "execution_count": null,
   "metadata": {},
   "outputs": [],
   "source": [
    "common_words = words.value_counts()[:20]\n",
    "common_words"
   ]
  },
  {
   "cell_type": "code",
   "execution_count": null,
   "metadata": {},
   "outputs": [],
   "source": []
  }
 ],
 "metadata": {
  "kernelspec": {
   "display_name": "Python 3",
   "language": "python",
   "name": "python3"
  },
  "language_info": {
   "codemirror_mode": {
    "name": "ipython",
    "version": 3
   },
   "file_extension": ".py",
   "mimetype": "text/x-python",
   "name": "python",
   "nbconvert_exporter": "python",
   "pygments_lexer": "ipython3",
   "version": "3.7.4"
  }
 },
 "nbformat": 4,
 "nbformat_minor": 2
}
